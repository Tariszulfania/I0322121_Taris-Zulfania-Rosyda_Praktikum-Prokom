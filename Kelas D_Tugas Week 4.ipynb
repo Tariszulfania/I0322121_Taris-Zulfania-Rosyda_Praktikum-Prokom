{
 "cells": [
  {
   "cell_type": "code",
   "execution_count": null,
   "metadata": {},
   "outputs": [],
   "source": [
    "print(input(\"Nama: \"))\n",
    "print(input(\"NIM: \"))\n",
    "print(input(\"Kelas: \"))"
   ]
  },
  {
   "attachments": {},
   "cell_type": "markdown",
   "metadata": {},
   "source": [
    "## 1."
   ]
  },
  {
   "attachments": {},
   "cell_type": "markdown",
   "metadata": {},
   "source": [
    "Buatlah program yang menampilkan salam “Selamat Pagi” dari berbagai negara {Inggris, Perancis, Italia, Spanyol, Jepang, Korea} dengan dua input dari user yaitu bahasa dan diikuti nama user.<br>\n",
    "<br>Ex : \n",
    "<br>\"Ohayou, Onii Chan\"\n",
    "> *note: Kerjakan soal ini dengan percabangan*"
   ]
  },
  {
   "cell_type": "code",
   "execution_count": 2,
   "metadata": {},
   "outputs": [
    {
     "name": "stdout",
     "output_type": "stream",
     "text": [
      "Buongiorno, nini\n"
     ]
    }
   ],
   "source": [
    "# Kerjakan soal nomor 1 disini\n",
    "bahasa= str(input(\"masukan nama negara\"))\n",
    "nama= str(input(\"masukan nama\"))\n",
    "if bahasa== \"perancis\":\n",
    "    print(\"bonjour,\", nama)\n",
    "elif bahasa== \"inggris\":\n",
    "    print(\"Good morning, \", nama)\n",
    "elif bahasa == \"korea\":\n",
    "    print(\"Joheun achimieyo, \", nama)\n",
    "elif bahasa == \"spanyol\":\n",
    "    print(\"Buen día, \", nama)\n",
    "elif bahasa == \"italia\":\n",
    "    print(\"Buongiorno,\", nama)\n",
    "elif bahasa == \"jepang\":\n",
    "    print(\"Ohayou, \", nama)    "
   ]
  },
  {
   "attachments": {},
   "cell_type": "markdown",
   "metadata": {},
   "source": [
    "## 2."
   ]
  },
  {
   "attachments": {},
   "cell_type": "markdown",
   "metadata": {},
   "source": [
    "Buatlah program perhitungan umur dengan menggunakan input user yaitu tahun lahir dari user.<br>\n",
    "<br>Output yang dihasilkan adalah sebagai berikut:\n",
    "<br>\"Apakah anda berasal dari masa depan?\"\n",
    "<br>\"Anda barusaja lahir\"\n",
    "<br>\"Umur Anda adalah xx tahun\"\n",
    "> *note: Kerjakan soal ini dengan percabangan*"
   ]
  },
  {
   "cell_type": "code",
   "execution_count": 4,
   "metadata": {},
   "outputs": [
    {
     "name": "stdout",
     "output_type": "stream",
     "text": [
      "umur anda=  18\n"
     ]
    }
   ],
   "source": [
    "# Kerjakan soal nomor 2 disini\n",
    "tahunlahir= int(input(\"masukan tahun lahir\"))\n",
    "tahunini= 2023\n",
    "\n",
    "umur= tahunini - tahunlahir\n",
    "if tahunlahir > tahunini:\n",
    "    print(\"apakah anda berasal dari masa depan?\")\n",
    "    print(\"umur anda= \", umur)\n",
    "elif tahunlahir == tahunini:\n",
    "    print(\"anda barusaja lahir\")\n",
    "    print(\"umur anda =\", umur)\n",
    "else:\n",
    "    print(\"umur anda= \", umur)"
   ]
  }
 ],
 "metadata": {
  "kernelspec": {
   "display_name": "Python 3",
   "language": "python",
   "name": "python3"
  },
  "language_info": {
   "codemirror_mode": {
    "name": "ipython",
    "version": 3
   },
   "file_extension": ".py",
   "mimetype": "text/x-python",
   "name": "python",
   "nbconvert_exporter": "python",
   "pygments_lexer": "ipython3",
   "version": "3.11.2"
  },
  "orig_nbformat": 4
 },
 "nbformat": 4,
 "nbformat_minor": 2
}
